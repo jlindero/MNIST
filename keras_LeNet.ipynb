{
  "nbformat": 4,
  "nbformat_minor": 0,
  "metadata": {
    "colab": {
      "name": "keras_LeNet.ipynb",
      "version": "0.3.2",
      "provenance": [],
      "collapsed_sections": []
    },
    "kernelspec": {
      "name": "python3",
      "display_name": "Python 3"
    },
    "accelerator": "TPU"
  },
  "cells": [
    {
      "metadata": {
        "id": "oHbHSk44L-KC",
        "colab_type": "code",
        "colab": {
          "base_uri": "https://localhost:8080/",
          "height": 35
        },
        "outputId": "23d2d866-6bbb-4e27-c134-d0999222076a"
      },
      "cell_type": "code",
      "source": [
        "# import the necessary packages\n",
        "from keras.optimizers import SGD\n",
        "from sklearn.preprocessing import LabelBinarizer\n",
        "from sklearn.model_selection import train_test_split\n",
        "from sklearn.metrics import classification_report\n",
        "from sklearn import datasets\n",
        "from keras import backend as K\n",
        "import matplotlib.pyplot as plt\n",
        "import numpy as np\n",
        "import cv2"
      ],
      "execution_count": 1,
      "outputs": [
        {
          "output_type": "stream",
          "text": [
            "Using TensorFlow backend.\n"
          ],
          "name": "stderr"
        }
      ]
    },
    {
      "metadata": {
        "id": "NQ4ZBxEkL_ZF",
        "colab_type": "code",
        "colab": {}
      },
      "cell_type": "code",
      "source": [
        "# import the necessary packages\n",
        "from keras.models import Sequential\n",
        "from keras.layers.convolutional import Conv2D\n",
        "from keras.layers.core import Activation\n",
        "from keras.layers.core import Flatten\n",
        "from keras.layers.core import Dense\n",
        "from keras import backend as K\n",
        "\n",
        "class ShallowNet:\n",
        "\t@staticmethod\n",
        "\tdef build(width, height, depth, classes):\n",
        "\t\t# initialize the model along with the input shape to be\n",
        "\t\t# \"channels last\"\n",
        "\t\tmodel = Sequential()\n",
        "\t\tinputShape = (height, width, depth)\n",
        "\n",
        "\t\t# if we are using \"channels first\", update the input shape\n",
        "\t\tif K.image_data_format() == \"channels_first\":\n",
        "\t\t\tinputShape = (depth, height, width)\n",
        "\n",
        "\t\t# define the first (and only) CONV => RELU layer\n",
        "\t\tmodel.add(Conv2D(32, (3, 3), padding=\"same\",\n",
        "\t\t\tinput_shape=inputShape))\n",
        "\t\tmodel.add(Activation(\"relu\"))\n",
        "\n",
        "\t\t# softmax classifier\n",
        "\t\tmodel.add(Flatten())\n",
        "\t\tmodel.add(Dense(classes))\n",
        "\t\tmodel.add(Activation(\"softmax\"))\n",
        "\n",
        "\t\t# return the constructed network architecture\n",
        "\t\treturn model"
      ],
      "execution_count": 0,
      "outputs": []
    },
    {
      "metadata": {
        "id": "LR9GoKO9MUAU",
        "colab_type": "code",
        "colab": {}
      },
      "cell_type": "code",
      "source": [
        "# import the necessary packages\n",
        "from keras.models import Sequential\n",
        "from keras.layers.convolutional import Conv2D\n",
        "from keras.layers.convolutional import MaxPooling2D\n",
        "from keras.layers.core import Activation\n",
        "from keras.layers.core import Flatten\n",
        "from keras.layers.core import Dense\n",
        "from keras import backend as K\n",
        "\n",
        "class LeNet:\n",
        "\t@staticmethod\n",
        "\tdef build(width, height, depth, classes):\n",
        "\t\t# initialize the model\n",
        "\t\tmodel = Sequential()\n",
        "\t\tinputShape = (height, width, depth)\n",
        "\n",
        "\t\t# if we are using \"channels first\", update the input shape\n",
        "\t\tif K.image_data_format() == \"channels_first\":\n",
        "\t\t\tinputShape = (depth, height, width)\n",
        "\n",
        "\t\t# first set of CONV => RELU => POOL layers\n",
        "\t\tmodel.add(Conv2D(20, (5, 5), padding=\"same\",\n",
        "\t\t\tinput_shape=inputShape))\n",
        "\t\tmodel.add(Activation(\"relu\"))\n",
        "\t\tmodel.add(MaxPooling2D(pool_size=(2, 2), strides=(2, 2)))\n",
        "\n",
        "\t\t# second set of CONV => RELU => POOL layers\n",
        "\t\tmodel.add(Conv2D(50, (5, 5), padding=\"same\"))\n",
        "\t\tmodel.add(Activation(\"relu\"))\n",
        "\t\tmodel.add(MaxPooling2D(pool_size=(2, 2), strides=(2, 2)))\n",
        "\n",
        "\t\t# first (and only) set of FC => RELU layers\n",
        "\t\tmodel.add(Flatten())\n",
        "\t\tmodel.add(Dense(500))\n",
        "\t\tmodel.add(Activation(\"relu\"))\n",
        "\n",
        "\t\t# softmax classifier\n",
        "\t\tmodel.add(Dense(classes))\n",
        "\t\tmodel.add(Activation(\"softmax\"))\n",
        "\n",
        "\t\t# return the constructed network architecture\n",
        "\t\treturn model"
      ],
      "execution_count": 0,
      "outputs": []
    },
    {
      "metadata": {
        "id": "97UscY2dShtI",
        "colab_type": "code",
        "colab": {}
      },
      "cell_type": "code",
      "source": [
        "class NeuralNetwork:\n",
        "\tdef __init__(self, layers, alpha=0.1):\n",
        "\t\t# initialize the list of weights matrices, then store the\n",
        "\t\t# network architecture and learning rate\n",
        "\t\tself.W = []\n",
        "\t\tself.layers = layers\n",
        "\t\tself.alpha = alpha\n",
        "\n",
        "\t\t# start looping from the index of the first layer but\n",
        "\t\t# stop before we reach the last two layers\n",
        "\t\tfor i in np.arange(0, len(layers) - 2):\n",
        "\t\t\t# randomly initialize a weight matrix connecting the\n",
        "\t\t\t# number of nodes in each respective layer together,\n",
        "\t\t\t# adding an extra node for the bias\n",
        "\t\t\tw = np.random.randn(layers[i] + 1, layers[i + 1] + 1)\n",
        "\t\t\tself.W.append(w / np.sqrt(layers[i]))\n",
        "\n",
        "\t\t# the last two layers are a special case where the input\n",
        "\t\t# connections need a bias term but the output does not\n",
        "\t\tw = np.random.randn(layers[-2] + 1, layers[-1])\n",
        "\t\tself.W.append(w / np.sqrt(layers[-2]))\n",
        "\n",
        "\tdef __repr__(self):\n",
        "\t\t# construct and return a string that represents the network\n",
        "\t\t# architecture\n",
        "\t\treturn \"NeuralNetwork: {}\".format(\n",
        "\t\t\t\"-\".join(str(l) for l in self.layers))\n",
        "\n",
        "\tdef sigmoid(self, x):\n",
        "\t\t# compute and return the sigmoid activation value for a\n",
        "\t\t# given input value\n",
        "\t\treturn 1.0 / (1 + np.exp(-x))\n",
        "\n",
        "\tdef sigmoid_deriv(self, x):\n",
        "\t\t# compute the derivative of the sigmoid function ASSUMING\n",
        "\t\t# that `x` has already been passed through the `sigmoid`\n",
        "\t\t# function\n",
        "\t\treturn x * (1 - x)\n",
        "\n",
        "\tdef fit(self, X, y, epochs=1000, displayUpdate=100):\n",
        "\t\t# insert a column of 1's as the last entry in the feature\n",
        "\t\t# matrix -- this little trick allows us to treat the bias\n",
        "\t\t# as a trainable parameter within the weight matrix\n",
        "\t\tX = np.c_[X, np.ones((X.shape[0]))]\n",
        "\n",
        "\t\t# loop over the desired number of epochs\n",
        "\t\tfor epoch in np.arange(0, epochs):\n",
        "\t\t\t# loop over each individual data point and train\n",
        "\t\t\t# our network on it\n",
        "\t\t\tfor (x, target) in zip(X, y):\n",
        "\t\t\t\tself.fit_partial(x, target)\n",
        "\n",
        "\t\t\t# check to see if we should display a training update\n",
        "\t\t\tif epoch == 0 or (epoch + 1) % displayUpdate == 0:\n",
        "\t\t\t\tloss = self.calculate_loss(X, y)\n",
        "\t\t\t\tprint(\"[INFO] epoch={}, loss={:.7f}\".format(\n",
        "\t\t\t\t\tepoch + 1, loss))\n",
        "\n",
        "\tdef fit_partial(self, x, y):\n",
        "\t\t# construct our list of output activations for each layer\n",
        "\t\t# as our data point flows through the network; the first\n",
        "\t\t# activation is a special case -- it's just the input\n",
        "\t\t# feature vector itself\n",
        "\t\tA = [np.atleast_2d(x)]\n",
        "\n",
        "\t\t# FEEDFORWARD:\n",
        "\t\t# loop over the layers in the network\n",
        "\t\tfor layer in np.arange(0, len(self.W)):\n",
        "\t\t\t# feedforward the activation at the current layer by\n",
        "\t\t\t# taking the dot product between the activation and\n",
        "\t\t\t# the weight matrix -- this is called the \"net input\"\n",
        "\t\t\t# to the current layer\n",
        "\t\t\tnet = A[layer].dot(self.W[layer])\n",
        "\n",
        "\t\t\t# computing the \"net output\" is simply applying our\n",
        "\t\t\t# non-linear activation function to the net input\n",
        "\t\t\tout = self.sigmoid(net)\n",
        "\n",
        "\t\t\t# once we have the net output, add it to our list of\n",
        "\t\t\t# activations\n",
        "\t\t\tA.append(out)\n",
        "\n",
        "\t\t# BACKPROPAGATION\n",
        "\t\t# the first phase of backpropagation is to compute the\n",
        "\t\t# difference between our *prediction* (the final output\n",
        "\t\t# activation in the activations list) and the true target\n",
        "\t\t# value\n",
        "\t\terror = A[-1] - y\n",
        "\n",
        "\t\t# from here, we need to apply the chain rule and build our\n",
        "\t\t# list of deltas `D`; the first entry in the deltas is\n",
        "\t\t# simply the error of the output layer times the derivative\n",
        "\t\t# of our activation function for the output value\n",
        "\t\tD = [error * self.sigmoid_deriv(A[-1])]\n",
        "\n",
        "\t\t# once you understand the chain rule it becomes super easy\n",
        "\t\t# to implement with a `for` loop -- simply loop over the\n",
        "\t\t# layers in reverse order (ignoring the last two since we\n",
        "\t\t# already have taken them into account)\n",
        "\t\tfor layer in np.arange(len(A) - 2, 0, -1):\n",
        "\t\t\t# the delta for the current layer is equal to the delta\n",
        "\t\t\t# of the *previous layer* dotted with the weight matrix\n",
        "\t\t\t# of the current layer, followed by multiplying the delta\n",
        "\t\t\t# by the derivative of the non-linear activation function\n",
        "\t\t\t# for the activations of the current layer\n",
        "\t\t\tdelta = D[-1].dot(self.W[layer].T)\n",
        "\t\t\tdelta = delta * self.sigmoid_deriv(A[layer])\n",
        "\t\t\tD.append(delta)\n",
        "\n",
        "\t\t# since we looped over our layers in reverse order we need to\n",
        "\t\t# reverse the deltas\n",
        "\t\tD = D[::-1]\n",
        "\n",
        "\t\t# WEIGHT UPDATE PHASE\n",
        "\t\t# loop over the layers\n",
        "\t\tfor layer in np.arange(0, len(self.W)):\n",
        "\t\t\t# update our weights by taking the dot product of the layer\n",
        "\t\t\t# activations with their respective deltas, then multiplying\n",
        "\t\t\t# this value by some small learning rate and adding to our\n",
        "\t\t\t# weight matrix -- this is where the actual \"learning\" takes\n",
        "\t\t\t# place\n",
        "\t\t\tself.W[layer] += -self.alpha * A[layer].T.dot(D[layer])\n",
        "\n",
        "\tdef predict(self, X, addBias=True):\n",
        "\t\t# initialize the output prediction as the input features -- this\n",
        "\t\t# value will be (forward) propagated through the network to\n",
        "\t\t# obtain the final prediction\n",
        "\t\tp = np.atleast_2d(X)\n",
        "\n",
        "\t\t# check to see if the bias column should be added\n",
        "\t\tif addBias:\n",
        "\t\t\t# insert a column of 1's as the last entry in the feature\n",
        "\t\t\t# matrix (bias)\n",
        "\t\t\tp = np.c_[p, np.ones((p.shape[0]))]\n",
        "\n",
        "\t\t# loop over our layers in the network\n",
        "\t\tfor layer in np.arange(0, len(self.W)):\n",
        "\t\t\t# computing the output prediction is as simple as taking\n",
        "\t\t\t# the dot product between the current activation value `p`\n",
        "\t\t\t# and the weight matrix associated with the current layer,\n",
        "\t\t\t# then passing this value through a non-linear activation\n",
        "\t\t\t# function\n",
        "\t\t\tp = self.sigmoid(np.dot(p, self.W[layer]))\n",
        "\n",
        "\t\t# return the predicted value\n",
        "\t\treturn p\n",
        "\n",
        "\tdef calculate_loss(self, X, targets):\n",
        "\t\t# make predictions for the input data points then compute\n",
        "\t\t# the loss\n",
        "\t\ttargets = np.atleast_2d(targets)\n",
        "\t\tpredictions = self.predict(X, addBias=False)\n",
        "\t\tloss = 0.5 * np.sum((predictions - targets) ** 2)\n",
        "\n",
        "\t\t# return the loss\n",
        "\t\treturn loss"
      ],
      "execution_count": 0,
      "outputs": []
    },
    {
      "metadata": {
        "id": "5-QOAT-pSvCM",
        "colab_type": "code",
        "colab": {}
      },
      "cell_type": "code",
      "source": [
        "class Perceptron:\n",
        "\tdef __init__(self, N, alpha=0.1):\n",
        "\t\t# initialize the weight matrix and store the learning rate\n",
        "\t\tself.W = np.random.randn(N + 1) / np.sqrt(N)\n",
        "\t\tself.alpha = alpha\n",
        "\n",
        "\tdef step(self, x):\n",
        "\t\t# apply the step function\n",
        "\t\treturn 1 if x > 0 else 0\n",
        "\n",
        "\tdef fit(self, X, y, epochs=10):\n",
        "\t\t# insert a column of 1's as the last entry in the feature\n",
        "\t\t# matrix -- this little trick allows us to treat the bias\n",
        "\t\t# as a trainable parameter within the weight matrix\n",
        "\t\tX = np.c_[X, np.ones((X.shape[0]))]\n",
        "\n",
        "\t\t# loop over the desired number of epochs\n",
        "\t\tfor epoch in np.arange(0, epochs):\n",
        "\t\t\t# loop over each individual data point\n",
        "\t\t\tfor (x, target) in zip(X, y):\n",
        "\t\t\t\t# take the dot product between the input features\n",
        "\t\t\t\t# and the weight matrix, then pass this value\n",
        "\t\t\t\t# through the step function to obtain the prediction\n",
        "\t\t\t\tp = self.step(np.dot(x, self.W))\n",
        "\n",
        "\t\t\t\t# only perform a weight update if our prediction\n",
        "\t\t\t\t# does not match the target\n",
        "\t\t\t\tif p != target:\n",
        "\t\t\t\t\t# determine the error\n",
        "\t\t\t\t\terror = p - target\n",
        "\n",
        "\t\t\t\t\t# update the weight matrix\n",
        "\t\t\t\t\tself.W += -self.alpha * error * x\n",
        "\n",
        "\tdef predict(self, X, addBias=True):\n",
        "\t\t# ensure our input is a matrix\n",
        "\t\tX = np.atleast_2d(X)\n",
        "\n",
        "\t\t# check to see if the bias column should be added\n",
        "\t\tif addBias:\n",
        "\t\t\t# insert a column of 1's as the last entry in the feature\n",
        "\t\t\t# matrix (bias)\n",
        "\t\t\tX = np.c_[X, np.ones((X.shape[0]))]\n",
        "\n",
        "\t\t# take the dot product between the input features and the\n",
        "\t\t# weight matrix, then pass the value through the step\n",
        "\t\t# function\n",
        "\t\treturn self.step(np.dot(X, self.W))"
      ],
      "execution_count": 0,
      "outputs": []
    },
    {
      "metadata": {
        "id": "bSjJfFw0S0LF",
        "colab_type": "code",
        "colab": {}
      },
      "cell_type": "code",
      "source": [
        "class SimplePreprocessor:\n",
        "\tdef __init__(self, width, height, inter=cv2.INTER_AREA):\n",
        "\t\t# store the target image width, height, and interpolation\n",
        "\t\t# method used when resizing\n",
        "\t\tself.width = width\n",
        "\t\tself.height = height\n",
        "\t\tself.inter = inter\n",
        "\n",
        "\tdef preprocess(self, image):\n",
        "\t\t# resize the image to a fixed size, ignoring the aspect\n",
        "\t\t# ratio\n",
        "\t\treturn cv2.resize(image, (self.width, self.height),\n",
        "\t\t\tinterpolation=self.inter)"
      ],
      "execution_count": 0,
      "outputs": []
    },
    {
      "metadata": {
        "id": "eRrcBH_WTCWc",
        "colab_type": "code",
        "colab": {
          "base_uri": "https://localhost:8080/",
          "height": 126
        },
        "outputId": "2afce429-0106-4fc3-e566-71d43ffbd753"
      },
      "cell_type": "code",
      "source": [
        "# grab the MNIST dataset (if this is your first time using this\n",
        "# dataset then the 55MB download may take a minute)\n",
        "print(\"[INFO] accessing MNIST...\")\n",
        "dataset = datasets.fetch_mldata(\"MNIST Original\")\n",
        "data = dataset.data\n",
        "\n"
      ],
      "execution_count": 7,
      "outputs": [
        {
          "output_type": "stream",
          "text": [
            "[INFO] accessing MNIST...\n"
          ],
          "name": "stdout"
        },
        {
          "output_type": "stream",
          "text": [
            "/usr/local/lib/python3.6/dist-packages/sklearn/utils/deprecation.py:77: DeprecationWarning: Function fetch_mldata is deprecated; fetch_mldata was deprecated in version 0.20 and will be removed in version 0.22\n",
            "  warnings.warn(msg, category=DeprecationWarning)\n",
            "/usr/local/lib/python3.6/dist-packages/sklearn/utils/deprecation.py:77: DeprecationWarning: Function mldata_filename is deprecated; mldata_filename was deprecated in version 0.20 and will be removed in version 0.22\n",
            "  warnings.warn(msg, category=DeprecationWarning)\n"
          ],
          "name": "stderr"
        }
      ]
    },
    {
      "metadata": {
        "id": "6WPFTKpET8cZ",
        "colab_type": "code",
        "colab": {}
      },
      "cell_type": "code",
      "source": [
        "# if we are using \"channels first\" ordering, then reshape the\n",
        "# design matrix such that the matrix is:\n",
        "# num_samples x depth x rows x columns\n",
        "if K.image_data_format() == \"channels_first\":\n",
        "\tdata = data.reshape(data.shape[0], 1, 28, 28)\n",
        "# otherwise, we are using \"channels last\" ordering, so the design\n",
        "# matrix shape should be: num_samples x rows x columns x depth\n",
        "else:\n",
        "\tdata = data.reshape(data.shape[0], 28, 28, 1)"
      ],
      "execution_count": 0,
      "outputs": []
    },
    {
      "metadata": {
        "id": "H77hJfU_Updo",
        "colab_type": "code",
        "colab": {}
      },
      "cell_type": "code",
      "source": [
        "# scale the input data to the range [0, 1] and perform a train/test\n",
        "# split\n",
        "(trainX, testX, trainY, testY) = train_test_split(data / 255.0,\n",
        "\tdataset.target.astype(\"int\"), test_size=0.25, random_state=42)\n"
      ],
      "execution_count": 0,
      "outputs": []
    },
    {
      "metadata": {
        "id": "elqYergMUxuS",
        "colab_type": "code",
        "colab": {}
      },
      "cell_type": "code",
      "source": [
        "# convert the labels from integers to vectors\n",
        "le = LabelBinarizer()\n",
        "trainY = le.fit_transform(trainY)\n",
        "testY = le.transform(testY)"
      ],
      "execution_count": 0,
      "outputs": []
    },
    {
      "metadata": {
        "id": "jGC01TbcUz7l",
        "colab_type": "code",
        "colab": {
          "base_uri": "https://localhost:8080/",
          "height": 108
        },
        "outputId": "1cf31cd9-400e-4063-c480-ba8f830072df"
      },
      "cell_type": "code",
      "source": [
        "# initialize the optimizer and model\n",
        "print(\"[INFO] compiling model...\")\n",
        "opt = SGD(lr=0.01)\n",
        "model = LeNet.build(width=28, height=28, depth=1, classes=10)\n",
        "model.compile(loss=\"categorical_crossentropy\", optimizer=opt, metrics=[\"accuracy\"])\n"
      ],
      "execution_count": 11,
      "outputs": [
        {
          "output_type": "stream",
          "text": [
            "[INFO] compiling model...\n",
            "WARNING:tensorflow:From /usr/local/lib/python3.6/dist-packages/tensorflow/python/framework/op_def_library.py:263: colocate_with (from tensorflow.python.framework.ops) is deprecated and will be removed in a future version.\n",
            "Instructions for updating:\n",
            "Colocations handled automatically by placer.\n"
          ],
          "name": "stdout"
        }
      ]
    },
    {
      "metadata": {
        "id": "FsWTT10RU2qS",
        "colab_type": "code",
        "colab": {
          "base_uri": "https://localhost:8080/",
          "height": 841
        },
        "outputId": "3c9595d7-5b45-477d-d9a6-7cffc92aeed1"
      },
      "cell_type": "code",
      "source": [
        "print(\"[INFO] training network...\")\n",
        "H = model.fit(trainX, trainY, validation_data=(testX, testY),\n",
        "\tbatch_size=128, epochs=20, verbose=1)"
      ],
      "execution_count": 12,
      "outputs": [
        {
          "output_type": "stream",
          "text": [
            "[INFO] training network...\n",
            "WARNING:tensorflow:From /usr/local/lib/python3.6/dist-packages/tensorflow/python/ops/math_ops.py:3066: to_int32 (from tensorflow.python.ops.math_ops) is deprecated and will be removed in a future version.\n",
            "Instructions for updating:\n",
            "Use tf.cast instead.\n",
            "Train on 52500 samples, validate on 17500 samples\n",
            "Epoch 1/20\n",
            "52500/52500 [==============================] - 130s 2ms/step - loss: 0.9551 - acc: 0.7375 - val_loss: 0.5945 - val_acc: 0.8087\n",
            "Epoch 2/20\n",
            "52500/52500 [==============================] - 128s 2ms/step - loss: 0.2742 - acc: 0.9182 - val_loss: 0.2836 - val_acc: 0.9034\n",
            "Epoch 3/20\n",
            "52500/52500 [==============================] - 129s 2ms/step - loss: 0.1974 - acc: 0.9410 - val_loss: 0.1825 - val_acc: 0.9461\n",
            "Epoch 4/20\n",
            "52500/52500 [==============================] - 128s 2ms/step - loss: 0.1520 - acc: 0.9554 - val_loss: 0.1928 - val_acc: 0.9390\n",
            "Epoch 5/20\n",
            "52500/52500 [==============================] - 129s 2ms/step - loss: 0.1252 - acc: 0.9630 - val_loss: 0.1141 - val_acc: 0.9673\n",
            "Epoch 6/20\n",
            "52500/52500 [==============================] - 130s 2ms/step - loss: 0.1071 - acc: 0.9689 - val_loss: 0.1065 - val_acc: 0.9674\n",
            "Epoch 7/20\n",
            "52500/52500 [==============================] - 130s 2ms/step - loss: 0.0941 - acc: 0.9718 - val_loss: 0.0947 - val_acc: 0.9721\n",
            "Epoch 8/20\n",
            "52500/52500 [==============================] - 129s 2ms/step - loss: 0.0851 - acc: 0.9742 - val_loss: 0.0938 - val_acc: 0.9717\n",
            "Epoch 9/20\n",
            "52500/52500 [==============================] - 130s 2ms/step - loss: 0.0773 - acc: 0.9762 - val_loss: 0.0903 - val_acc: 0.9717\n",
            "Epoch 10/20\n",
            "52500/52500 [==============================] - 130s 2ms/step - loss: 0.0706 - acc: 0.9781 - val_loss: 0.0795 - val_acc: 0.9763\n",
            "Epoch 11/20\n",
            "52500/52500 [==============================] - 128s 2ms/step - loss: 0.0658 - acc: 0.9795 - val_loss: 0.0964 - val_acc: 0.9706\n",
            "Epoch 12/20\n",
            "52500/52500 [==============================] - 129s 2ms/step - loss: 0.0609 - acc: 0.9812 - val_loss: 0.0657 - val_acc: 0.9803\n",
            "Epoch 13/20\n",
            "52500/52500 [==============================] - 129s 2ms/step - loss: 0.0574 - acc: 0.9822 - val_loss: 0.0638 - val_acc: 0.9815\n",
            "Epoch 14/20\n",
            "52500/52500 [==============================] - 130s 2ms/step - loss: 0.0541 - acc: 0.9833 - val_loss: 0.0612 - val_acc: 0.9815\n",
            "Epoch 15/20\n",
            "52500/52500 [==============================] - 130s 2ms/step - loss: 0.0503 - acc: 0.9843 - val_loss: 0.0614 - val_acc: 0.9826\n",
            "Epoch 16/20\n",
            "52500/52500 [==============================] - 128s 2ms/step - loss: 0.0488 - acc: 0.9846 - val_loss: 0.0626 - val_acc: 0.9819\n",
            "Epoch 17/20\n",
            "52500/52500 [==============================] - 129s 2ms/step - loss: 0.0465 - acc: 0.9859 - val_loss: 0.3994 - val_acc: 0.8767\n",
            "Epoch 18/20\n",
            "52500/52500 [==============================] - 129s 2ms/step - loss: 0.0453 - acc: 0.9863 - val_loss: 0.0563 - val_acc: 0.9837\n",
            "Epoch 19/20\n",
            "52500/52500 [==============================] - 129s 2ms/step - loss: 0.0414 - acc: 0.9876 - val_loss: 0.0848 - val_acc: 0.9736\n",
            "Epoch 20/20\n",
            "52500/52500 [==============================] - 129s 2ms/step - loss: 0.0402 - acc: 0.9874 - val_loss: 0.0545 - val_acc: 0.9846\n"
          ],
          "name": "stdout"
        }
      ]
    },
    {
      "metadata": {
        "id": "naPWNqo2eIVu",
        "colab_type": "code",
        "colab": {
          "base_uri": "https://localhost:8080/",
          "height": 339
        },
        "outputId": "cc8adbf2-46c6-4fd8-efe1-26944e8eaa2d"
      },
      "cell_type": "code",
      "source": [
        "# evaluate the network\n",
        "print(\"[INFO] evaluating network...\")\n",
        "predictions = model.predict(testX, batch_size=128)\n",
        "print(classification_report(testY.argmax(axis=1),\n",
        "\tpredictions.argmax(axis=1),\n",
        "\ttarget_names=[str(x) for x in le.classes_]))"
      ],
      "execution_count": 13,
      "outputs": [
        {
          "output_type": "stream",
          "text": [
            "[INFO] evaluating network...\n",
            "              precision    recall  f1-score   support\n",
            "\n",
            "           0       0.99      0.99      0.99      1677\n",
            "           1       0.99      0.99      0.99      1935\n",
            "           2       0.98      0.99      0.99      1767\n",
            "           3       0.98      0.98      0.98      1766\n",
            "           4       0.98      0.99      0.99      1691\n",
            "           5       0.99      0.98      0.99      1653\n",
            "           6       0.99      0.99      0.99      1754\n",
            "           7       0.98      0.99      0.98      1846\n",
            "           8       0.97      0.98      0.97      1702\n",
            "           9       0.99      0.96      0.97      1709\n",
            "\n",
            "   micro avg       0.98      0.98      0.98     17500\n",
            "   macro avg       0.98      0.98      0.98     17500\n",
            "weighted avg       0.98      0.98      0.98     17500\n",
            "\n"
          ],
          "name": "stdout"
        }
      ]
    },
    {
      "metadata": {
        "id": "_sG2P8nkeNMX",
        "colab_type": "code",
        "colab": {
          "base_uri": "https://localhost:8080/",
          "height": 299
        },
        "outputId": "aba913ad-3d28-48e6-828b-dc72aace61e2"
      },
      "cell_type": "code",
      "source": [
        "# plot the training loss and accuracy\n",
        "plt.style.use(\"ggplot\")\n",
        "plt.figure()\n",
        "plt.plot(np.arange(0, 20), H.history[\"loss\"], label=\"train_loss\")\n",
        "plt.plot(np.arange(0, 20), H.history[\"val_loss\"], label=\"val_loss\")\n",
        "plt.plot(np.arange(0, 20), H.history[\"acc\"], label=\"train_acc\")\n",
        "plt.plot(np.arange(0, 20), H.history[\"val_acc\"], label=\"val_acc\")\n",
        "plt.title(\"Training Loss and Accuracy\")\n",
        "plt.xlabel(\"Epoch #\")\n",
        "plt.ylabel(\"Loss/Accuracy\")\n",
        "plt.legend()\n",
        "plt.show()"
      ],
      "execution_count": 14,
      "outputs": [
        {
          "output_type": "display_data",
          "data": {
            "image/png": "[encoded data removed]",
            "text/plain": [
              "<Figure size 432x288 with 1 Axes>"
            ]
          },
          "metadata": {
            "tags": []
          }
        }
      ]
    },
    {
      "metadata": {
        "id": "dvjupX22eQC8",
        "colab_type": "code",
        "colab": {}
      },
      "cell_type": "code",
      "source": [
        ""
      ],
      "execution_count": 0,
      "outputs": []
    }
  ]
}