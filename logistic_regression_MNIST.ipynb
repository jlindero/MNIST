{
  "nbformat": 4,
  "nbformat_minor": 0,
  "metadata": {
    "colab": {
      "name": "logistic_regression_MNIST.ipynb",
      "version": "0.3.2",
      "provenance": [],
      "collapsed_sections": []
    },
    "language_info": {
      "codemirror_mode": {
        "name": "ipython",
        "version": 3
      },
      "file_extension": ".py",
      "mimetype": "text/x-python",
      "name": "python",
      "nbconvert_exporter": "python",
      "pygments_lexer": "ipython3",
      "version": "3.6.8"
    },
    "kernelspec": {
      "name": "python3",
      "display_name": "Python 3"
    },
    "accelerator": "GPU"
  },
  "cells": [
    {
      "metadata": {
        "id": "InmQGSVaJl8W",
        "colab_type": "code",
        "colab": {
          "base_uri": "https://localhost:8080/",
          "height": 35
        },
        "outputId": "537d3e08-08c2-42fc-b285-69d79a298362"
      },
      "cell_type": "code",
      "source": [
        "from sklearn import datasets\n",
        "digits = datasets.load_digits()\n",
        "print(digits.keys())"
      ],
      "execution_count": 1,
      "outputs": [
        {
          "output_type": "stream",
          "text": [
            "dict_keys(['data', 'target', 'target_names', 'images', 'DESCR'])\n"
          ],
          "name": "stdout"
        }
      ]
    },
    {
      "metadata": {
        "id": "gvr4wkSwJl84",
        "colab_type": "code",
        "colab": {
          "base_uri": "https://localhost:8080/",
          "height": 53
        },
        "outputId": "f6c6783e-1394-4e0e-e279-50c0a7b8269d"
      },
      "cell_type": "code",
      "source": [
        "# summary of data\n",
        "print('data size = ', digits.data.shape)\n",
        "print('target size = ', digits.target.shape)\n",
        "#print(digits.DESCR)"
      ],
      "execution_count": 14,
      "outputs": [
        {
          "output_type": "stream",
          "text": [
            "data size =  (1797, 64)\n",
            "target size =  (1797,)\n"
          ],
          "name": "stdout"
        }
      ]
    },
    {
      "metadata": {
        "id": "KhgBzC6TJl9K",
        "colab_type": "code",
        "colab": {
          "base_uri": "https://localhost:8080/",
          "height": 303
        },
        "outputId": "a2884f98-ebf0-4ebb-8d00-e12401c78b60"
      },
      "cell_type": "code",
      "source": [
        "%matplotlib inline\n",
        "import matplotlib.pyplot as plt\n",
        "import numpy as np\n",
        "\n",
        "plt.figure(figsize=(20,4))\n",
        "for index, (image, label) in enumerate(zip(digits.data[0:5], digits.target[0:5])):\n",
        "    plt.subplot(1, 5, index + 1)\n",
        "    plt.imshow(np.reshape(image, (8,8)), cmap=plt.cm.gray)\n",
        "    plt.title('Training: %i\\n' % label, fontsize = 20)"
      ],
      "execution_count": 3,
      "outputs": [
        {
          "output_type": "display_data",
          "data": {
            "image/png": "[encoded data removed]",
            "text/plain": [
              "<Figure size 1440x288 with 5 Axes>"
            ]
          },
          "metadata": {
            "tags": []
          }
        }
      ]
    },
    {
      "metadata": {
        "id": "0qc_go29Jl9c",
        "colab_type": "code",
        "colab": {
          "base_uri": "https://localhost:8080/",
          "height": 88
        },
        "outputId": "50dcb2cf-3886-4ee1-f286-5ed096482720"
      },
      "cell_type": "code",
      "source": [
        "# TODO: train-test split\n",
        "from sklearn.model_selection import train_test_split\n",
        "X_train, X_test, y_train, y_test = train_test_split(digits.data, digits.target, test_size=0.25, random_state=8)\n",
        "print(X_train[256], y_train[256])"
      ],
      "execution_count": 4,
      "outputs": [
        {
          "output_type": "stream",
          "text": [
            "[ 0.  0.  2. 16. 10.  0.  0.  0.  0.  0.  4. 16. 16.  5.  0.  0.  0.  0.\n",
            "  8. 16. 16.  3.  0.  0.  0.  0.  9. 16. 16.  3.  0.  0.  0.  0.  8. 16.\n",
            " 16.  3.  0.  0.  0.  0.  8. 16. 16.  1.  0.  0.  0.  0.  5. 16. 14.  0.\n",
            "  0.  0.  0.  0.  1. 12. 16.  3.  0.  0.] 1\n"
          ],
          "name": "stdout"
        }
      ]
    },
    {
      "metadata": {
        "id": "m-c-CJaHJl9q",
        "colab_type": "code",
        "colab": {}
      },
      "cell_type": "code",
      "source": [
        "# batch gradient descent (GD) for Logistic regression\n",
        "\n",
        "# softmax\n",
        "def softmax(x):\n",
        "    e = np.exp(x - np.max(x))  # prevent overflow\n",
        "    if e.ndim == 1:\n",
        "        return e / np.sum(e, axis=0)\n",
        "    else:  \n",
        "        return e / np.array([np.sum(e, axis=1)]).T  # ndim = 2\n",
        "\n",
        "# encode integer labels to binary vectors\n",
        "def yMatrix(y, num_class):\n",
        "    Y = np.zeros((len(y), num_class))\n",
        "    Y[range(len(y)), y] = 1\n",
        "    return Y\n",
        "\n",
        "# batch gradient descent (GD) for Logistic regression\n",
        "def LogisticRegression_GD(X, y, lr = 0.1, eta = 0.3, eps = 0.0005, max_iter = 500, print_iter = 20, bias = True, verbose = True):\n",
        "    \n",
        "    ncvg = True\n",
        "    it = 0\n",
        "    n, d = X.shape\n",
        "    lr /= float(n)\n",
        "    loss = []\n",
        "    num_class = len(np.unique(y))\n",
        "    Y = yMatrix(y, num_class)\n",
        "    W = np.zeros((d, num_class))\n",
        "    \n",
        "    if bias:\n",
        "        X = np.concatenate([X, np.ones((n, 1))], axis=1)\n",
        "        W = np.concatenate([W, np.ones((1, num_class))], axis = 0)\n",
        "\n",
        "    # optimization loop\t\n",
        "    while ncvg and it < max_iter:\n",
        "\n",
        "        # gradient descent\n",
        "        logits = softmax(np.matmul(X, W))\n",
        "        grad = np.matmul(X.T, Y - logits) - eta * W\n",
        "        W = W + lr * grad\n",
        "        loss.append(-np.sum(np.log(logits[range(n), y])) / float(n))\n",
        "\n",
        "        # Stop criterion\n",
        "        if it > 0:\n",
        "            if abs(loss[it]-loss[it-1]) < eps:\n",
        "                ncvg = False\n",
        "                break\n",
        "        \n",
        "        if it % print_iter == 0 and verbose:\n",
        "            print('iteration', it, ': loss =', loss[it])\n",
        "            \n",
        "        it += 1\n",
        "    \n",
        "    print('iteration', it-1, ': loss =', loss[-1], 'converged.')\n",
        "    \n",
        "    if bias:\n",
        "        b = W[-1]\n",
        "        W = W[:d]\n",
        "    else:\n",
        "        b = np.zeros(num_class)\n",
        "\n",
        "    return (W, b, loss)\n",
        "\n",
        "# prediction function\n",
        "def pred_fn(X, W, b, bias = True):\n",
        "    if bias:\n",
        "        pred = np.argmax(np.matmul(X, W) + b, axis = 1)\n",
        "    else:\n",
        "        pred = np.argmax(np.matmul(X, W), axis = 1)\n",
        "    return pred\n",
        "\n",
        "# precision\n",
        "def precision(pred, y):\n",
        "    return sum(np.equal(pred, y)) / float(len(y))"
      ],
      "execution_count": 0,
      "outputs": []
    },
    {
      "metadata": {
        "id": "VkjGMyS3Jl91",
        "colab_type": "code",
        "colab": {
          "base_uri": "https://localhost:8080/",
          "height": 1877
        },
        "outputId": "bd0895b6-1ff2-437c-ff4e-8896983f3bd2"
      },
      "cell_type": "code",
      "source": [
        "# evaluation of different learning rate\n",
        "learning_rate = [5.0e-2, 5.0e-3, 1.0e-2]\n",
        "cl = ['darkgreen', 'cyan', 'red']\n",
        "fig, ax = plt.subplots(figsize=(10, 8))\n",
        "for i in range(len(learning_rate)):\n",
        "    \n",
        "    print('---------------------------------------')\n",
        "    print('learning rate =', learning_rate[i])\n",
        "    \n",
        "    W, b, loss_GD = LogisticRegression_GD(X_train, y_train, learning_rate[i], eta = 1.0e-1, eps = 1.0e-4, max_iter = 1000, bias = True)\n",
        "    \n",
        "    pred_train = pred_fn(X_train, W, b)\n",
        "    prec_train = precision(pred_train, y_train)\n",
        "    print('training precision =', prec_train)\n",
        "\n",
        "    pred_test = pred_fn(X_test, W, b)\n",
        "    prec_test = precision(pred_test, y_test)\n",
        "    print('test precision =', prec_test)\n",
        "    \n",
        "    plt.plot(loss_GD, c = cl[i], ls = '-', marker = 'o', label = 'batch gradient descent (lr = ' + str(learning_rate[i]) + ')')\n",
        "\n",
        "plt.grid()\n",
        "plt.legend()\n",
        "plt.xlabel('iteration')\n",
        "plt.ylabel('loss')\n",
        "plt.ylim(0, 3)"
      ],
      "execution_count": 6,
      "outputs": [
        {
          "output_type": "stream",
          "text": [
            "---------------------------------------\n",
            "learning rate = 0.05\n",
            "iteration 0 : loss = 2.3025850929940455\n",
            "iteration 20 : loss = 0.4621014770288263\n",
            "iteration 40 : loss = 0.1114731640308674\n",
            "iteration 60 : loss = 0.08413649049987854\n",
            "iteration 80 : loss = 0.06975957921133638\n",
            "iteration 100 : loss = 0.06017819765412206\n",
            "iteration 120 : loss = 0.053075754251282616\n",
            "iteration 140 : loss = 0.04753623510782027\n",
            "iteration 160 : loss = 0.04310366601157691\n",
            "iteration 180 : loss = 0.03951189148360505\n",
            "iteration 200 : loss = 0.036576055058582795\n",
            "iteration 220 : loss = 0.034150598818852726\n",
            "iteration 232 : loss = 0.032791490623622695 converged.\n",
            "training precision = 0.9962880475129918\n",
            "test precision = 0.9666666666666667\n",
            "---------------------------------------\n",
            "learning rate = 0.005\n",
            "iteration 0 : loss = 2.3025850929940455\n",
            "iteration 20 : loss = 0.6130190960042627\n",
            "iteration 40 : loss = 0.398412588799218\n",
            "iteration 60 : loss = 0.3148435126750569\n",
            "iteration 80 : loss = 0.26833109975686803\n",
            "iteration 100 : loss = 0.23792701955192463\n",
            "iteration 120 : loss = 0.21614973076384844\n",
            "iteration 140 : loss = 0.19959529451932073\n",
            "iteration 160 : loss = 0.18647055014803163\n",
            "iteration 180 : loss = 0.17573327596835792\n",
            "iteration 200 : loss = 0.16673304803905162\n",
            "iteration 220 : loss = 0.15904130115287116\n",
            "iteration 240 : loss = 0.15236323959657416\n",
            "iteration 260 : loss = 0.14648886097638397\n",
            "iteration 280 : loss = 0.1412641579296758\n",
            "iteration 300 : loss = 0.13657338665851906\n",
            "iteration 320 : loss = 0.13232771934365337\n",
            "iteration 340 : loss = 0.12845773895949034\n",
            "iteration 360 : loss = 0.12490833244186314\n",
            "iteration 380 : loss = 0.12163512875801748\n",
            "iteration 400 : loss = 0.11860195991781146\n",
            "iteration 420 : loss = 0.11577901596644663\n",
            "iteration 440 : loss = 0.11314148105260928\n",
            "iteration 460 : loss = 0.1106685094762341\n",
            "iteration 480 : loss = 0.10834244620493157\n",
            "iteration 500 : loss = 0.10614822595766604\n",
            "iteration 520 : loss = 0.10407290459035978\n",
            "iteration 524 : loss = 0.10357130656942794 converged.\n",
            "training precision = 0.9836674090571641\n",
            "test precision = 0.9711111111111111\n",
            "---------------------------------------\n",
            "learning rate = 0.01\n",
            "iteration 0 : loss = 2.3025850929940455\n",
            "iteration 20 : loss = 0.4173811431383319\n",
            "iteration 40 : loss = 0.26250619753011323\n",
            "iteration 60 : loss = 0.21319910406307074\n",
            "iteration 80 : loss = 0.1846507223553785\n",
            "iteration 100 : loss = 0.1654815020709047\n",
            "iteration 120 : loss = 0.15144054461235382\n",
            "iteration 140 : loss = 0.14055022210082282\n",
            "iteration 160 : loss = 0.13175527945175178\n",
            "iteration 180 : loss = 0.12443659745988461\n",
            "iteration 200 : loss = 0.11820466510933125\n",
            "iteration 220 : loss = 0.11280090543938082\n",
            "iteration 240 : loss = 0.10804617613269353\n",
            "iteration 260 : loss = 0.1038119720210588\n",
            "iteration 280 : loss = 0.10000340393059276\n",
            "iteration 300 : loss = 0.0965486683596419\n",
            "iteration 320 : loss = 0.09339227866979156\n",
            "iteration 340 : loss = 0.09049057005532415\n",
            "iteration 360 : loss = 0.08780862940844063\n",
            "iteration 380 : loss = 0.08531814636794925\n",
            "iteration 400 : loss = 0.08299587632793325\n",
            "iteration 420 : loss = 0.08082251984425136\n",
            "iteration 437 : loss = 0.07898038905033715 converged.\n",
            "training precision = 0.985894580549369\n",
            "test precision = 0.9733333333333334\n"
          ],
          "name": "stdout"
        },
        {
          "output_type": "execute_result",
          "data": {
            "text/plain": [
              "(0, 3)"
            ]
          },
          "metadata": {
            "tags": []
          },
          "execution_count": 6
        },
        {
          "output_type": "display_data",
          "data": {
            "image/png": "[encoded data removed]",
            "text/plain": [
              "<Figure size 720x576 with 1 Axes>"
            ]
          },
          "metadata": {
            "tags": []
          }
        }
      ]
    },
    {
      "metadata": {
        "id": "L_HZhCJhJl-H",
        "colab_type": "code",
        "colab": {}
      },
      "cell_type": "code",
      "source": [
        "# stochastic gradient descent (SGD) for Logistic regression\n",
        "\n",
        "# minibatch iterator\n",
        "def iterate_minibatches(X, y, Y, batchsize, shuffle=False):\n",
        "    assert X.shape[0] == y.shape[0]\n",
        "    if shuffle:\n",
        "        indices = np.arange(X.shape[0])\n",
        "        np.random.shuffle(indices)\n",
        "    for start_idx in range(0, X.shape[0] - batchsize + 1, batchsize):\n",
        "        if shuffle:\n",
        "            excerpt = indices[start_idx:start_idx + batchsize]\n",
        "        else:\n",
        "            excerpt = slice(start_idx, start_idx + batchsize)\n",
        "        yield X[excerpt], y[excerpt], Y[excerpt]\n",
        "\n",
        "# stochastic gradient descent (SGD) for Logistic regression\n",
        "def LogisticRegression_SGD(X, y, batch_size = 100, lr = 1.0e-1, eta = 0.3, eps = 0.0005, \n",
        "                           max_epoch = 500, print_epoch = 20, lr_epoch = 10, stop_epoch = 20, \n",
        "                           bias = True, shuffle = True, verbose = True):\n",
        "    \n",
        "    ncvg = True\n",
        "    epoch = 0\n",
        "    n, d = X.shape\n",
        "    loss = []\n",
        "    num_class = len(np.unique(y))\n",
        "    Y = yMatrix(y, num_class)\n",
        "    W = np.zeros((d, num_class))\n",
        "    \n",
        "    if bias:\n",
        "        X = np.concatenate([X, np.ones((n, 1))], axis=1)\n",
        "        W = np.concatenate([W, np.ones((1, num_class))], axis = 0)\n",
        "\n",
        "    # optimization loop\t\n",
        "    while ncvg and epoch < max_epoch:\n",
        "        \n",
        "        loss_epoch = 0.0\n",
        "        for Xb, yb, Yb in iterate_minibatches(X, y, Y, batch_size, shuffle):\n",
        "            \n",
        "            # minibatch gradient descent\n",
        "            nb = len(yb)\n",
        "            logits = softmax(np.matmul(Xb, W))\n",
        "            grad = np.matmul(Xb.T, Yb - logits) - eta * W\n",
        "            W = W + (lr / float(nb)) * grad\n",
        "            loss_epoch += -np.sum(np.log(logits[range(nb), yb]))\n",
        "            \n",
        "        loss.append(loss_epoch / float(n))\n",
        "        \n",
        "        # half lr if not improving in lr_epoch epochs\n",
        "        if epoch > lr_epoch:\n",
        "            if loss[epoch - lr_epoch] <= loss[epoch] - eps:\n",
        "                lr *= 0.5\n",
        "                print('halfing learning rate to', lr)\n",
        "        \n",
        "        # stop if not improving in stop_epoch epochs\n",
        "        if epoch > stop_epoch:\n",
        "            if loss[epoch - stop_epoch] <= loss[epoch] - eps or abs(loss[epoch] - loss[epoch-1]) <= eps:                \n",
        "                ncvg = False\n",
        "                break\n",
        "        \n",
        "        if epoch % print_epoch == 0 and verbose:\n",
        "            print('epoch', epoch, ': loss =', loss[epoch])\n",
        "            \n",
        "        epoch += 1\n",
        "    \n",
        "    print('epoch', epoch-1, ': loss =', loss[-1])\n",
        "    \n",
        "    if bias:\n",
        "        b = W[-1]\n",
        "        W = W[:d]\n",
        "    else:\n",
        "        b = np.zeros(num_class)\n",
        "\n",
        "    return (W, b, loss)"
      ],
      "execution_count": 0,
      "outputs": []
    },
    {
      "metadata": {
        "id": "0jMsDWqDJl-X",
        "colab_type": "code",
        "colab": {
          "base_uri": "https://localhost:8080/",
          "height": 1161
        },
        "outputId": "37a9e89c-9e1d-43c2-dac4-00492e0f9066"
      },
      "cell_type": "code",
      "source": [
        "# evaluation of different batch size\n",
        "bs = [10, 50, 100]\n",
        "cl = ['green', 'blue', 'orange']\n",
        "lr = [1.0e-3, 5.0e-3, 1.0e-2]\n",
        "fig, ax = plt.subplots(figsize=(10, 8))\n",
        "plt.plot(loss_GD, 'r.-', label = 'batch gradient descent (batch_size =' + str(len(y_train)) + ')')\n",
        "\n",
        "for i in range(len(bs)):\n",
        "    \n",
        "    print('---------------------------------------')\n",
        "    print('batch_size =', bs[i])\n",
        "    W, b, loss_SGD = LogisticRegression_SGD(X_train, y_train, bs[i], lr[i], eta = 2.0e-1, eps = 1.0e-4, \n",
        "                                    max_epoch = 500, print_epoch = 10, lr_epoch = 10, stop_epoch = 20, \n",
        "                                    bias = True, shuffle = True, verbose = True)\n",
        "    \n",
        "    pred_train = pred_fn(X_train, W, b)\n",
        "    prec_train = precision(pred_train, y_train)\n",
        "    print('training precision =', prec_train)\n",
        "\n",
        "    pred_test = pred_fn(X_test, W, b)\n",
        "    prec_test = precision(pred_test, y_test)\n",
        "    print('test precision =', prec_test)\n",
        "    \n",
        "    plt.plot(loss_SGD, c = cl[i], ls = '-', marker = 'o', label = 'stochastic gradient descent (batch_size = ' + str(bs[i]) + ')')\n",
        "\n",
        "plt.grid()\n",
        "plt.legend()\n",
        "plt.xlabel('epoch')\n",
        "plt.ylabel('loss')"
      ],
      "execution_count": 8,
      "outputs": [
        {
          "output_type": "stream",
          "text": [
            "---------------------------------------\n",
            "batch_size = 10\n",
            "epoch 0 : loss = 1.0255069376793229\n",
            "epoch 10 : loss = 0.14773944580765783\n",
            "epoch 20 : loss = 0.1080203709375065\n",
            "epoch 30 : loss = 0.08980033488343195\n",
            "epoch 40 : loss = 0.0782679330365709\n",
            "epoch 50 : loss = 0.07021043186601557\n",
            "epoch 52 : loss = 0.06894344724536242\n",
            "training precision = 0.9903489235337788\n",
            "test precision = 0.9755555555555555\n",
            "---------------------------------------\n",
            "batch_size = 50\n",
            "epoch 0 : loss = 1.0911648763062605\n",
            "epoch 10 : loss = 0.14386181372202317\n",
            "epoch 20 : loss = 0.106123394319073\n",
            "epoch 30 : loss = 0.08354685378187308\n",
            "epoch 40 : loss = 0.07243960911873124\n",
            "epoch 50 : loss = 0.06397405643259677\n",
            "epoch 60 : loss = 0.05871391060952006\n",
            "epoch 70 : loss = 0.05236392110518157\n",
            "epoch 80 : loss = 0.04647157737753006\n",
            "epoch 88 : loss = 0.0454048090943705\n",
            "training precision = 0.9962880475129918\n",
            "test precision = 0.9711111111111111\n",
            "---------------------------------------\n",
            "batch_size = 100\n",
            "epoch 0 : loss = 1.362605137721502\n",
            "epoch 10 : loss = 0.13943852033582138\n",
            "epoch 20 : loss = 0.10735008958441404\n",
            "epoch 30 : loss = 0.08282247088719573\n",
            "epoch 40 : loss = 0.07066474229474418\n",
            "epoch 50 : loss = 0.06187227462733715\n",
            "epoch 50 : loss = 0.06185617908600024\n",
            "training precision = 0.9881217520415738\n",
            "test precision = 0.9688888888888889\n"
          ],
          "name": "stdout"
        },
        {
          "output_type": "execute_result",
          "data": {
            "text/plain": [
              "Text(0, 0.5, 'loss')"
            ]
          },
          "metadata": {
            "tags": []
          },
          "execution_count": 8
        },
        {
          "output_type": "display_data",
          "data": {
            "image/png": "[encoded data removed]",
            "text/plain": [
              "<Figure size 720x576 with 1 Axes>"
            ]
          },
          "metadata": {
            "tags": []
          }
        }
      ]
    },
    {
      "metadata": {
        "id": "3iG635KDJl-z",
        "colab_type": "code",
        "colab": {}
      },
      "cell_type": "code",
      "source": [
        "# not part of hws\n",
        "from sklearn.datasets import fetch_openml\n",
        "X, y = fetch_openml('mnist_784', version=1, return_X_y=True, data_home='mnist/')\n",
        "#X, y = fetch_openml('Fashion-MNIST', return_X_y=True, data_home='fashion/')"
      ],
      "execution_count": 0,
      "outputs": []
    },
    {
      "metadata": {
        "id": "vdCdZWvFJl_C",
        "colab_type": "code",
        "colab": {}
      },
      "cell_type": "code",
      "source": [
        "y = np.asarray(list(map(int, y)))\n",
        "X = np.asarray(X.astype(float))"
      ],
      "execution_count": 0,
      "outputs": []
    },
    {
      "metadata": {
        "id": "eSeUGGL1Jl_R",
        "colab_type": "code",
        "colab": {}
      },
      "cell_type": "code",
      "source": [
        "from sklearn.model_selection import train_test_split\n",
        "X_train, X_test, y_train, y_test = train_test_split(X, y, test_size=0.75, random_state=8)"
      ],
      "execution_count": 0,
      "outputs": []
    },
    {
      "metadata": {
        "id": "931-nm8DJl_g",
        "colab_type": "code",
        "colab": {}
      },
      "cell_type": "code",
      "source": [
        "%matplotlib inline\n",
        "import matplotlib.pyplot as plt\n",
        "import numpy as np"
      ],
      "execution_count": 0,
      "outputs": []
    },
    {
      "metadata": {
        "id": "1KBFoEmjJl_q",
        "colab_type": "code",
        "colab": {
          "base_uri": "https://localhost:8080/",
          "height": 3984
        },
        "outputId": "f0ce7e7f-46ab-4d82-eebc-a01ade2ccf9f"
      },
      "cell_type": "code",
      "source": [
        "# evaluation of different batch size\n",
        "bs = [128, 256, 512]\n",
        "cl = ['green', 'blue', 'orange']\n",
        "lr = [2.0e-5, 4.0e-5, 6.0e-5]\n",
        "fig, ax = plt.subplots(figsize=(10, 8))\n",
        "#plt.plot(loss_GD, 'r.-', label = 'batch gradient descent (batch_size =' + str(len(y_train)) + ')')\n",
        "\n",
        "for i in range(len(bs)):\n",
        "    \n",
        "    print('---------------------------------------')\n",
        "    print('batch_size =', bs[i])\n",
        "    W, b, loss_SGD = LogisticRegression_SGD(X_train, y_train, bs[i], lr[i], eta = 1.0e+4, eps = 1.0e-8, \n",
        "                                    max_epoch = 500, print_epoch = 20, lr_epoch = 10, stop_epoch = 100, \n",
        "                                    bias = True, shuffle = True, verbose = True)\n",
        "    \n",
        "    pred_train = pred_fn(X_train, W, b)\n",
        "    prec_train = precision(pred_train, y_train)\n",
        "    print('training precision =', prec_train)\n",
        "\n",
        "    pred_test = pred_fn(X_test, W, b)\n",
        "    prec_test = precision(pred_test, y_test)\n",
        "    print('test precision =', prec_test)\n",
        "    \n",
        "    plt.plot(loss_SGD, c = cl[i], ls = '-', marker = 'o', label = 'stochastic gradient descent (batch_size = ' + str(bs[i]) + ')')\n",
        "\n",
        "plt.grid()\n",
        "plt.legend()\n",
        "plt.xlabel('epoch')\n",
        "plt.ylabel('loss')"
      ],
      "execution_count": 13,
      "outputs": [
        {
          "output_type": "stream",
          "text": [
            "---------------------------------------\n",
            "batch_size = 128\n",
            "epoch 0 : loss = 0.7507031559766424\n",
            "epoch 20 : loss = 0.3517883976031566\n",
            "halfing learning rate to 1e-05\n",
            "halfing learning rate to 5e-06\n",
            "epoch 40 : loss = 0.2893638057261329\n",
            "halfing learning rate to 2.5e-06\n",
            "halfing learning rate to 1.25e-06\n",
            "epoch 60 : loss = 0.2836727355893294\n",
            "halfing learning rate to 6.25e-07\n",
            "halfing learning rate to 3.125e-07\n",
            "epoch 80 : loss = 0.2813042260813652\n",
            "halfing learning rate to 1.5625e-07\n",
            "halfing learning rate to 7.8125e-08\n",
            "halfing learning rate to 3.90625e-08\n",
            "halfing learning rate to 1.953125e-08\n",
            "halfing learning rate to 9.765625e-09\n",
            "halfing learning rate to 4.8828125e-09\n",
            "epoch 100 : loss = 0.2804999957941096\n",
            "halfing learning rate to 2.44140625e-09\n",
            "halfing learning rate to 1.220703125e-09\n",
            "halfing learning rate to 6.103515625e-10\n",
            "halfing learning rate to 3.0517578125e-10\n",
            "halfing learning rate to 1.52587890625e-10\n",
            "halfing learning rate to 7.62939453125e-11\n",
            "halfing learning rate to 3.814697265625e-11\n",
            "halfing learning rate to 1.9073486328125e-11\n",
            "halfing learning rate to 9.5367431640625e-12\n",
            "halfing learning rate to 4.76837158203125e-12\n",
            "halfing learning rate to 2.384185791015625e-12\n",
            "halfing learning rate to 1.1920928955078126e-12\n",
            "epoch 120 : loss = 0.28107894597199967\n",
            "halfing learning rate to 5.960464477539063e-13\n",
            "halfing learning rate to 2.9802322387695315e-13\n",
            "halfing learning rate to 1.4901161193847657e-13\n",
            "halfing learning rate to 7.450580596923829e-14\n",
            "halfing learning rate to 3.7252902984619144e-14\n",
            "halfing learning rate to 1.8626451492309572e-14\n",
            "halfing learning rate to 9.313225746154786e-15\n",
            "halfing learning rate to 4.656612873077393e-15\n",
            "halfing learning rate to 2.3283064365386965e-15\n",
            "halfing learning rate to 1.1641532182693482e-15\n",
            "halfing learning rate to 5.820766091346741e-16\n",
            "halfing learning rate to 2.9103830456733706e-16\n",
            "epoch 140 : loss = 0.2812647532366005\n",
            "halfing learning rate to 1.4551915228366853e-16\n",
            "halfing learning rate to 7.275957614183426e-17\n",
            "halfing learning rate to 3.637978807091713e-17\n",
            "halfing learning rate to 1.8189894035458566e-17\n",
            "halfing learning rate to 9.094947017729283e-18\n",
            "halfing learning rate to 4.5474735088646416e-18\n",
            "halfing learning rate to 2.2737367544323208e-18\n",
            "halfing learning rate to 1.1368683772161604e-18\n",
            "halfing learning rate to 5.684341886080802e-19\n",
            "halfing learning rate to 2.842170943040401e-19\n",
            "epoch 160 : loss = 0.28140952569971406\n",
            "halfing learning rate to 1.4210854715202005e-19\n",
            "halfing learning rate to 7.105427357601002e-20\n",
            "halfing learning rate to 3.552713678800501e-20\n",
            "halfing learning rate to 1.7763568394002506e-20\n",
            "halfing learning rate to 8.881784197001253e-21\n",
            "halfing learning rate to 4.4408920985006265e-21\n",
            "halfing learning rate to 2.2204460492503133e-21\n",
            "epoch 176 : loss = 0.28121069218243516\n",
            "training precision = 0.9238857142857143\n",
            "test precision = 0.9134857142857142\n",
            "---------------------------------------\n",
            "batch_size = 256\n",
            "epoch 0 : loss = 1.9047195133071955\n",
            "halfing learning rate to 2e-05\n",
            "epoch 20 : loss = 0.2734792922735113\n",
            "halfing learning rate to 1e-05\n",
            "halfing learning rate to 5e-06\n",
            "epoch 40 : loss = 0.25622688752124995\n",
            "halfing learning rate to 2.5e-06\n",
            "epoch 60 : loss = 0.2545544994914725\n",
            "halfing learning rate to 1.25e-06\n",
            "halfing learning rate to 6.25e-07\n",
            "halfing learning rate to 3.125e-07\n",
            "halfing learning rate to 1.5625e-07\n",
            "epoch 80 : loss = 0.25352673040174506\n",
            "halfing learning rate to 7.8125e-08\n",
            "halfing learning rate to 3.90625e-08\n",
            "halfing learning rate to 1.953125e-08\n",
            "halfing learning rate to 9.765625e-09\n",
            "halfing learning rate to 4.8828125e-09\n",
            "halfing learning rate to 2.44140625e-09\n",
            "halfing learning rate to 1.220703125e-09\n",
            "halfing learning rate to 6.103515625e-10\n",
            "epoch 100 : loss = 0.2528405167627728\n",
            "halfing learning rate to 3.0517578125e-10\n",
            "halfing learning rate to 1.52587890625e-10\n",
            "halfing learning rate to 7.62939453125e-11\n",
            "halfing learning rate to 3.814697265625e-11\n",
            "halfing learning rate to 1.9073486328125e-11\n",
            "halfing learning rate to 9.5367431640625e-12\n",
            "halfing learning rate to 4.76837158203125e-12\n",
            "halfing learning rate to 2.384185791015625e-12\n",
            "halfing learning rate to 1.1920928955078126e-12\n",
            "halfing learning rate to 5.960464477539063e-13\n",
            "halfing learning rate to 2.9802322387695315e-13\n",
            "epoch 120 : loss = 0.2533839693788851\n",
            "halfing learning rate to 1.4901161193847657e-13\n",
            "halfing learning rate to 7.450580596923829e-14\n",
            "halfing learning rate to 3.7252902984619144e-14\n",
            "halfing learning rate to 1.8626451492309572e-14\n",
            "halfing learning rate to 9.313225746154786e-15\n",
            "halfing learning rate to 4.656612873077393e-15\n",
            "halfing learning rate to 2.3283064365386965e-15\n",
            "halfing learning rate to 1.1641532182693482e-15\n",
            "halfing learning rate to 5.820766091346741e-16\n",
            "epoch 140 : loss = 0.2532687805817445\n",
            "halfing learning rate to 2.9103830456733706e-16\n",
            "halfing learning rate to 1.4551915228366853e-16\n",
            "halfing learning rate to 7.275957614183426e-17\n",
            "halfing learning rate to 3.637978807091713e-17\n",
            "halfing learning rate to 1.8189894035458566e-17\n",
            "halfing learning rate to 9.094947017729283e-18\n",
            "halfing learning rate to 4.5474735088646416e-18\n",
            "halfing learning rate to 2.2737367544323208e-18\n",
            "epoch 160 : loss = 0.25304683479139845\n",
            "halfing learning rate to 1.1368683772161604e-18\n",
            "halfing learning rate to 5.684341886080802e-19\n",
            "halfing learning rate to 2.842170943040401e-19\n",
            "halfing learning rate to 1.4210854715202005e-19\n",
            "epoch 166 : loss = 0.2535963197874984\n",
            "training precision = 0.9310857142857143\n",
            "test precision = 0.9145142857142857\n",
            "---------------------------------------\n",
            "batch_size = 512\n",
            "epoch 0 : loss = 3.942884286384326\n",
            "halfing learning rate to 3e-05\n",
            "epoch 20 : loss = 0.2594304925995263\n",
            "halfing learning rate to 1.5e-05\n",
            "epoch 40 : loss = 0.23909440528651643\n",
            "halfing learning rate to 7.5e-06\n",
            "halfing learning rate to 3.75e-06\n",
            "epoch 60 : loss = 0.23361523289894823\n",
            "halfing learning rate to 1.875e-06\n",
            "halfing learning rate to 9.375e-07\n",
            "epoch 80 : loss = 0.23259389317476492\n",
            "halfing learning rate to 4.6875e-07\n",
            "halfing learning rate to 2.34375e-07\n",
            "halfing learning rate to 1.171875e-07\n",
            "halfing learning rate to 5.859375e-08\n",
            "epoch 100 : loss = 0.23159253936289098\n",
            "halfing learning rate to 2.9296875e-08\n",
            "halfing learning rate to 1.46484375e-08\n",
            "halfing learning rate to 7.32421875e-09\n",
            "halfing learning rate to 3.662109375e-09\n",
            "halfing learning rate to 1.8310546875e-09\n",
            "halfing learning rate to 9.1552734375e-10\n",
            "halfing learning rate to 4.57763671875e-10\n",
            "halfing learning rate to 2.288818359375e-10\n",
            "halfing learning rate to 1.1444091796875e-10\n",
            "halfing learning rate to 5.7220458984375e-11\n",
            "epoch 120 : loss = 0.23195100251696096\n",
            "halfing learning rate to 2.86102294921875e-11\n",
            "halfing learning rate to 1.430511474609375e-11\n",
            "halfing learning rate to 7.152557373046875e-12\n",
            "halfing learning rate to 3.5762786865234376e-12\n",
            "halfing learning rate to 1.7881393432617188e-12\n",
            "halfing learning rate to 8.940696716308594e-13\n",
            "halfing learning rate to 4.470348358154297e-13\n",
            "halfing learning rate to 2.2351741790771485e-13\n",
            "halfing learning rate to 1.1175870895385742e-13\n",
            "halfing learning rate to 5.587935447692871e-14\n",
            "halfing learning rate to 2.7939677238464356e-14\n",
            "halfing learning rate to 1.3969838619232178e-14\n",
            "epoch 140 : loss = 0.2323102385839831\n",
            "halfing learning rate to 6.984919309616089e-15\n",
            "halfing learning rate to 3.4924596548080445e-15\n",
            "halfing learning rate to 1.7462298274040223e-15\n",
            "halfing learning rate to 8.731149137020111e-16\n",
            "halfing learning rate to 4.3655745685100557e-16\n",
            "halfing learning rate to 2.1827872842550278e-16\n",
            "halfing learning rate to 1.0913936421275139e-16\n",
            "halfing learning rate to 5.4569682106375696e-17\n",
            "halfing learning rate to 2.7284841053187848e-17\n",
            "epoch 160 : loss = 0.23197167664642\n",
            "halfing learning rate to 1.3642420526593924e-17\n",
            "halfing learning rate to 6.821210263296962e-18\n",
            "halfing learning rate to 3.410605131648481e-18\n",
            "halfing learning rate to 1.7053025658242405e-18\n",
            "halfing learning rate to 8.526512829121202e-19\n",
            "halfing learning rate to 4.263256414560601e-19\n",
            "halfing learning rate to 2.1316282072803006e-19\n",
            "halfing learning rate to 1.0658141036401503e-19\n",
            "halfing learning rate to 5.3290705182007515e-20\n",
            "halfing learning rate to 2.6645352591003758e-20\n",
            "epoch 172 : loss = 0.23244340763035964\n",
            "training precision = 0.9367428571428571\n",
            "test precision = 0.9142285714285714\n"
          ],
          "name": "stdout"
        },
        {
          "output_type": "execute_result",
          "data": {
            "text/plain": [
              "Text(0, 0.5, 'loss')"
            ]
          },
          "metadata": {
            "tags": []
          },
          "execution_count": 13
        },
        {
          "output_type": "display_data",
          "data": {
            "image/png": "[encoded data removed]",
            "text/plain": [
              "<Figure size 720x576 with 1 Axes>"
            ]
          },
          "metadata": {
            "tags": []
          }
        }
      ]
    },
    {
      "metadata": {
        "id": "ITbo7RS_Jl_1",
        "colab_type": "code",
        "colab": {}
      },
      "cell_type": "code",
      "source": [
        ""
      ],
      "execution_count": 0,
      "outputs": []
    }
  ]
}