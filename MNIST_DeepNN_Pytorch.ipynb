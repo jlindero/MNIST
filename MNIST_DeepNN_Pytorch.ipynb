{
  "nbformat": 4,
  "nbformat_minor": 0,
  "metadata": {
    "colab": {
      "name": "MNIST_DeepNN_Pytorch",
      "version": "0.3.2",
      "provenance": [],
      "collapsed_sections": []
    },
    "kernelspec": {
      "name": "python3",
      "display_name": "Python 3"
    },
    "accelerator": "GPU"
  },
  "cells": [
    {
      "metadata": {
        "id": "dk1gU4FUKVUQ",
        "colab_type": "code",
        "colab": {}
      },
      "cell_type": "code",
      "source": [
        "import torch\n",
        "import matplotlib.pyplot as plt\n",
        "import numpy as np\n",
        "import torch.nn.functional as F\n",
        "from torch import nn\n",
        "from torchvision import datasets, transforms"
      ],
      "execution_count": 0,
      "outputs": []
    },
    {
      "metadata": {
        "id": "YkbUKkehKpM5",
        "colab_type": "code",
        "colab": {}
      },
      "cell_type": "code",
      "source": [
        "transform = transforms.Compose([transforms.Resize((28,28)), #make any image 28x28 \n",
        "                               transforms.ToTensor(),       #make a tensor\n",
        "                               transforms.Normalize((0.5,), (0.5,))\n",
        "                               ])\n",
        "training_dataset = datasets.MNIST(root='./data', train=True, download=True, transform=transform)\n",
        "validation_dataset = datasets.MNIST(root='./data', train=False, download=True, transform=transform)\n",
        "\n",
        "training_loader = torch.utils.data.DataLoader(training_dataset, batch_size=100, shuffle=True)\n",
        "validation_loader = torch.utils.data.DataLoader(validation_dataset, batch_size = 100, shuffle=False)\n"
      ],
      "execution_count": 0,
      "outputs": []
    },
    {
      "metadata": {
        "id": "DiS8AcnQXHLz",
        "colab_type": "text"
      },
      "cell_type": "markdown",
      "source": [
        "An update to the code which applies to the MNIST section of this. When normalizing the images, make sure to write transforms.Normalize((0.5,), (0.5,))  , rather than what  had earlier, transforms.Normalize((0.5, 0.5, 0.5), (0.5, 0.5, 0.5)) . Ultimately, this is done to ensure a single channel of (1, 28, 28), rather than (3, 28, 28). the 3 was for colour."
      ]
    },
    {
      "metadata": {
        "id": "U7Ob3HxsKwtk",
        "colab_type": "code",
        "colab": {}
      },
      "cell_type": "code",
      "source": [
        "def im_convert(tensor):\n",
        "  image = tensor.clone().detach().numpy()\n",
        "  image = image.transpose(1, 2, 0)\n",
        "  #print(image.shape)\n",
        "  image = image * np.array((0.5, 0.5, 0.5)) + np.array((0.5, 0.5, 0.5))\n",
        "  image = image.clip(0, 1)\n",
        "  return image"
      ],
      "execution_count": 0,
      "outputs": []
    },
    {
      "metadata": {
        "id": "foE96vY1SNlC",
        "colab_type": "code",
        "outputId": "37c3b4b0-cf3f-467b-e5b0-d804b7dc2f7d",
        "colab": {
          "base_uri": "https://localhost:8080/",
          "height": 288
        }
      },
      "cell_type": "code",
      "source": [
        "dataiter = iter(training_loader)\n",
        "images, labels = dataiter.next()\n",
        "fig = plt.figure(figsize=(25, 4))\n",
        "\n",
        "for idx in np.arange(20):\n",
        "  ax = fig.add_subplot(2, 10, idx+1, xticks=[], yticks=[])\n",
        "  plt.imshow(im_convert(images[idx]))\n",
        "  ax.set_title([labels[idx].item()])"
      ],
      "execution_count": 4,
      "outputs": [
        {
          "output_type": "display_data",
          "data": {
            "image/png": "[encoded data removed]",
            "text/plain": [
              "<Figure size 1800x288 with 20 Axes>"
            ]
          },
          "metadata": {
            "tags": []
          }
        }
      ]
    },
    {
      "metadata": {
        "id": "pglrSfzMXOaS",
        "colab_type": "text"
      },
      "cell_type": "markdown",
      "source": [
        "Neural Network\n"
      ]
    },
    {
      "metadata": {
        "id": "u0dXyuCnUuFa",
        "colab_type": "code",
        "colab": {}
      },
      "cell_type": "code",
      "source": [
        "class Classifier(nn.Module):\n",
        "    \n",
        "    def __init__(self, D_in, H1, H2, H3, D_out):                     #\n",
        "        super().__init__()\n",
        "        self.linear1 = nn.Linear(D_in, H1)\n",
        "        self.linear2 = nn.Linear(H1, H2)\n",
        "        self.linear2 = nn.Linear(H2, H3)\n",
        "        self.linear3 = nn.Linear(H3, D_out)\n",
        "    def forward(self, x):\n",
        "        x = F.relu(self.linear1(x))  \n",
        "        x = F.relu(self.linear2(x))\n",
        "        x = self.linear3(x)\n",
        "        return x"
      ],
      "execution_count": 0,
      "outputs": []
    },
    {
      "metadata": {
        "id": "CkootgqnZTyk",
        "colab_type": "code",
        "outputId": "7c5cd0b6-6069-4f56-ad60-72795c3fcaed",
        "colab": {
          "base_uri": "https://localhost:8080/",
          "height": 106
        }
      },
      "cell_type": "code",
      "source": [
        "#model = Classifier(784, 125, 65, 10 )    # number of pixels in image , nodes in first layer , second layer, classes to put \n",
        "\n",
        "model = Classifier(784, 33, 33, 33, 10 )    # number of pixels in image , nodes in first layer , second layer, third layer, classes to put \n",
        "#model = Classifier(784, 50, 50, 10 )    # number of pixels in image , nodes in first layer , second layer, classes to put \n",
        "#model = Classifier(784, 100, 10 )\n",
        "model"
      ],
      "execution_count": 6,
      "outputs": [
        {
          "output_type": "execute_result",
          "data": {
            "text/plain": [
              "Classifier(\n",
              "  (linear1): Linear(in_features=784, out_features=33, bias=True)\n",
              "  (linear2): Linear(in_features=33, out_features=33, bias=True)\n",
              "  (linear3): Linear(in_features=33, out_features=10, bias=True)\n",
              ")"
            ]
          },
          "metadata": {
            "tags": []
          },
          "execution_count": 6
        }
      ]
    },
    {
      "metadata": {
        "id": "4CaNQ2ZPaBHJ",
        "colab_type": "text"
      },
      "cell_type": "markdown",
      "source": [
        ""
      ]
    },
    {
      "metadata": {
        "id": "Tqs7ixkjZqYx",
        "colab_type": "code",
        "colab": {}
      },
      "cell_type": "code",
      "source": [
        "criterion = nn.CrossEntropyLoss()\n",
        "optimizer = torch.optim.Adam(model.parameters(), lr = 0.0001)"
      ],
      "execution_count": 0,
      "outputs": []
    },
    {
      "metadata": {
        "id": "EWvpnroOaQz3",
        "colab_type": "code",
        "outputId": "df9874a7-ae9f-4953-f407-c2385c0c0b02",
        "colab": {
          "base_uri": "https://localhost:8080/",
          "height": 821
        }
      },
      "cell_type": "code",
      "source": [
        "epochs = 15\n",
        "running_loss_history = []\n",
        "running_corrects_history = []\n",
        "val_running_loss_history = []\n",
        "val_running_corrects_history = []\n",
        "\n",
        "for e in range(epochs):\n",
        "  \n",
        "  running_loss = 0.0\n",
        "  running_corrects = 0.0\n",
        "  val_running_loss = 0.0\n",
        "  val_running_corrects = 0.0\n",
        "  \n",
        "  for inputs, labels in training_loader:\n",
        "    inputs = inputs.view(inputs.shape[0],-1) # 1,28,28   ---> 1, 784                                      \n",
        "    outputs = model(inputs)\n",
        "    loss = criterion(outputs, labels)\n",
        "    \n",
        "    optimizer.zero_grad()\n",
        "    loss.backward()\n",
        "    optimizer.step()\n",
        "    \n",
        "    _, preds = torch.max(outputs, 1)\n",
        "    running_loss += loss.item()\n",
        "    running_corrects += torch.sum(preds == labels.data)\n",
        "\n",
        "  else:\n",
        "    with torch.no_grad(): #this is to save memory by settng all grads flags to false for this segment \n",
        "      for val_inputs, val_labels in validation_loader:\n",
        "        val_inputs = val_inputs.view(val_inputs.shape[0], -1)\n",
        "        val_outputs = model(val_inputs)\n",
        "        val_loss = criterion(val_outputs, val_labels)\n",
        "        \n",
        "        _, val_preds = torch.max(val_outputs, 1)\n",
        "        val_running_loss += val_loss.item()\n",
        "        val_running_corrects += torch.sum(val_preds == val_labels.data)\n",
        "      \n",
        "    epoch_loss = running_loss/len(training_loader)\n",
        "    epoch_acc = running_corrects.float()/ len(training_loader)\n",
        "    running_loss_history.append(epoch_loss)\n",
        "    running_corrects_history.append(epoch_acc)\n",
        "    \n",
        "    val_epoch_loss = val_running_loss/len(validation_loader)\n",
        "    val_epoch_acc = val_running_corrects.float()/ len(validation_loader)\n",
        "    val_running_loss_history.append(val_epoch_loss)\n",
        "    val_running_corrects_history.append(val_epoch_acc)\n",
        "    print('epoch :', (e+1))\n",
        "    print('training loss: {:.4f}, acc {:.4f} '.format(epoch_loss, epoch_acc.item()))\n",
        "    print('validation loss: {:.4f}, validation acc {:.4f} '.format(val_epoch_loss, val_epoch_acc.item()))"
      ],
      "execution_count": 8,
      "outputs": [
        {
          "output_type": "stream",
          "text": [
            "epoch : 1\n",
            "training loss: 1.4022, acc 61.2800 \n",
            "validation loss: 0.7032, validation acc 82.6800 \n",
            "epoch : 2\n",
            "training loss: 0.5596, acc 85.4633 \n",
            "validation loss: 0.4415, validation acc 88.1300 \n",
            "epoch : 3\n",
            "training loss: 0.4183, acc 88.5750 \n",
            "validation loss: 0.3736, validation acc 89.5900 \n",
            "epoch : 4\n",
            "training loss: 0.3685, acc 89.6300 \n",
            "validation loss: 0.3381, validation acc 90.0400 \n",
            "epoch : 5\n",
            "training loss: 0.3419, acc 90.3267 \n",
            "validation loss: 0.3149, validation acc 90.7900 \n",
            "epoch : 6\n",
            "training loss: 0.3240, acc 90.7900 \n",
            "validation loss: 0.3023, validation acc 91.2000 \n",
            "epoch : 7\n",
            "training loss: 0.3088, acc 91.1100 \n",
            "validation loss: 0.2878, validation acc 91.3600 \n",
            "epoch : 8\n",
            "training loss: 0.2964, acc 91.4350 \n",
            "validation loss: 0.2782, validation acc 91.8600 \n",
            "epoch : 9\n",
            "training loss: 0.2852, acc 91.7517 \n",
            "validation loss: 0.2666, validation acc 92.3100 \n",
            "epoch : 10\n",
            "training loss: 0.2744, acc 92.0650 \n",
            "validation loss: 0.2577, validation acc 92.4600 \n",
            "epoch : 11\n",
            "training loss: 0.2652, acc 92.3717 \n",
            "validation loss: 0.2493, validation acc 92.5400 \n",
            "epoch : 12\n",
            "training loss: 0.2561, acc 92.6100 \n",
            "validation loss: 0.2485, validation acc 92.4700 \n",
            "epoch : 13\n",
            "training loss: 0.2481, acc 92.8467 \n",
            "validation loss: 0.2353, validation acc 93.1900 \n",
            "epoch : 14\n",
            "training loss: 0.2401, acc 93.0317 \n",
            "validation loss: 0.2280, validation acc 93.1700 \n",
            "epoch : 15\n",
            "training loss: 0.2327, acc 93.2333 \n",
            "validation loss: 0.2221, validation acc 93.3900 \n"
          ],
          "name": "stdout"
        }
      ]
    },
    {
      "metadata": {
        "id": "GfZxMmmPedRy",
        "colab_type": "code",
        "outputId": "93f6a5c1-38ac-4fdb-ce4f-a0923063b165",
        "colab": {
          "base_uri": "https://localhost:8080/",
          "height": 287
        }
      },
      "cell_type": "code",
      "source": [
        "plt.plot(running_loss_history, label='training loss')\n",
        "plt.plot(val_running_loss_history, label='validation loss')\n",
        "plt.legend()"
      ],
      "execution_count": 9,
      "outputs": [
        {
          "output_type": "execute_result",
          "data": {
            "text/plain": [
              "<matplotlib.legend.Legend at 0x7f4d964580f0>"
            ]
          },
          "metadata": {
            "tags": []
          },
          "execution_count": 9
        },
        {
          "output_type": "display_data",
          "data": {
            "image/png": "[encoded data removed]",
            "text/plain": [
              "<Figure size 432x288 with 1 Axes>"
            ]
          },
          "metadata": {
            "tags": []
          }
        }
      ]
    },
    {
      "metadata": {
        "id": "eoiNeC1jow_v",
        "colab_type": "text"
      },
      "cell_type": "markdown",
      "source": [
        "looks like it is right around 13 where it shows about right validation error starts to go further and separate from the training and is the balance where it needs to fit. "
      ]
    },
    {
      "metadata": {
        "id": "ZRPgFmm-fvpw",
        "colab_type": "code",
        "outputId": "cab04ff8-f416-481a-ed87-6d6f386ffd04",
        "colab": {
          "base_uri": "https://localhost:8080/",
          "height": 287
        }
      },
      "cell_type": "code",
      "source": [
        "plt.plot(running_corrects_history, label='training accuracy')\n",
        "plt.plot(val_running_corrects_history, label='validation accuracy')\n",
        "plt.legend()"
      ],
      "execution_count": 10,
      "outputs": [
        {
          "output_type": "execute_result",
          "data": {
            "text/plain": [
              "<matplotlib.legend.Legend at 0x7f4d96435470>"
            ]
          },
          "metadata": {
            "tags": []
          },
          "execution_count": 10
        },
        {
          "output_type": "display_data",
          "data": {
            "image/png": "[encoded data removed]",
            "text/plain": [
              "<Figure size 432x288 with 1 Axes>"
            ]
          },
          "metadata": {
            "tags": []
          }
        }
      ]
    },
    {
      "metadata": {
        "id": "U3_w55urhaIH",
        "colab_type": "text"
      },
      "cell_type": "markdown",
      "source": [
        "the training loss and validation loss begin to approach eachother the training loss begins to be less then the validation loss and that is where it begins to over fit. "
      ]
    },
    {
      "metadata": {
        "id": "sr4j3naNlXAJ",
        "colab_type": "code",
        "outputId": "b1246363-e2db-4dce-9e50-4aaf057a4a57",
        "colab": {
          "base_uri": "https://localhost:8080/",
          "height": 53
        }
      },
      "cell_type": "code",
      "source": [
        "!pip3 install pillow==4.0.0"
      ],
      "execution_count": 11,
      "outputs": [
        {
          "output_type": "stream",
          "text": [
            "Requirement already satisfied: pillow==4.0.0 in /usr/local/lib/python3.6/dist-packages (4.0.0)\n",
            "Requirement already satisfied: olefile in /usr/local/lib/python3.6/dist-packages (from pillow==4.0.0) (0.46)\n"
          ],
          "name": "stdout"
        }
      ]
    },
    {
      "metadata": {
        "id": "DMnzYIJ4llte",
        "colab_type": "code",
        "colab": {}
      },
      "cell_type": "code",
      "source": [
        "import PIL.ImageOps"
      ],
      "execution_count": 0,
      "outputs": []
    },
    {
      "metadata": {
        "id": "aCndN260oolb",
        "colab_type": "code",
        "outputId": "63bf26e5-1ec9-46ef-8851-3c6d7c742a56",
        "colab": {
          "base_uri": "https://localhost:8080/",
          "height": 305
        }
      },
      "cell_type": "code",
      "source": [
        "import requests\n",
        "from PIL import Image\n",
        "\n",
        "url = 'https://images.homedepot-static.com/productImages/007164ea-d47e-4f66-8d8c-fd9f621984a2/svn/architectural-mailboxes-house-letters-numbers-3585b-5-64_1000.jpg'\n",
        "response = requests.get(url, stream = True)\n",
        "print(response)  #Response [200] successful\n",
        "\n",
        "img = Image.open(response.raw)\n",
        "plt.imshow(img)\n"
      ],
      "execution_count": 13,
      "outputs": [
        {
          "output_type": "stream",
          "text": [
            "<Response [200]>\n"
          ],
          "name": "stdout"
        },
        {
          "output_type": "execute_result",
          "data": {
            "text/plain": [
              "<matplotlib.image.AxesImage at 0x7f4d962cb6d8>"
            ]
          },
          "metadata": {
            "tags": []
          },
          "execution_count": 13
        },
        {
          "output_type": "display_data",
          "data": {
            "image/png": "[encoded data removed]",
            "text/plain": [
              "<Figure size 432x288 with 1 Axes>"
            ]
          },
          "metadata": {
            "tags": []
          }
        }
      ]
    },
    {
      "metadata": {
        "id": "-kUIp8VXx800",
        "colab_type": "text"
      },
      "cell_type": "markdown",
      "source": [
        "preprocess from 1000x1000 to 28x28\n",
        "and black number w/ white background to white number with black background"
      ]
    },
    {
      "metadata": {
        "id": "mVBbgyeot7OU",
        "colab_type": "code",
        "outputId": "99c06a9e-f047-4c4b-9b15-bc1f14abde99",
        "colab": {
          "base_uri": "https://localhost:8080/",
          "height": 287
        }
      },
      "cell_type": "code",
      "source": [
        "img = PIL.ImageOps.invert(img)  # invert colours\n",
        "img = img.convert('1') # from RGB to black&white\n",
        "img = transform(img) # transform image from 2nd cell\n",
        "\n",
        "              \n",
        "plt.imshow(im_convert(img))"
      ],
      "execution_count": 14,
      "outputs": [
        {
          "output_type": "execute_result",
          "data": {
            "text/plain": [
              "<matplotlib.image.AxesImage at 0x7f4d900559e8>"
            ]
          },
          "metadata": {
            "tags": []
          },
          "execution_count": 14
        },
        {
          "output_type": "display_data",
          "data": {
            "image/png": "[encoded data removed]",
            "text/plain": [
              "<Figure size 432x288 with 1 Axes>"
            ]
          },
          "metadata": {
            "tags": []
          }
        }
      ]
    },
    {
      "metadata": {
        "id": "-jnmTZGGfwnk",
        "colab_type": "code",
        "outputId": "992305d9-cea4-4606-a65a-2a829659037b",
        "colab": {
          "base_uri": "https://localhost:8080/",
          "height": 35
        }
      },
      "cell_type": "code",
      "source": [
        "img = img.view(img.shape[0], -1)\n",
        "output = model(img)\n",
        "_, pred = torch.max(output, 1)\n",
        "\n",
        "\n",
        "print (pred.item())"
      ],
      "execution_count": 15,
      "outputs": [
        {
          "output_type": "stream",
          "text": [
            "5\n"
          ],
          "name": "stdout"
        }
      ]
    },
    {
      "metadata": {
        "id": "e86TsU1Fmian",
        "colab_type": "code",
        "outputId": "02efe6ba-d2b7-479e-a21b-b2bc1fd62110",
        "colab": {
          "base_uri": "https://localhost:8080/",
          "height": 288
        }
      },
      "cell_type": "code",
      "source": [
        "dataiter = iter(validation_loader)\n",
        "images, labels = dataiter.next()\n",
        "images_ = images.view(images.shape[0], -1)\n",
        "output = model(images_)\n",
        "_, preds = torch.max(output, 1)\n",
        "\n",
        "fig = plt.figure(figsize=(25, 4))\n",
        "\n",
        "for idx in np.arange(20):\n",
        "  ax = fig.add_subplot(2, 10, idx+1, xticks=[], yticks=[])\n",
        "  plt.imshow(im_convert(images[idx]))\n",
        "  ax.set_title(\"{} ({})\".format(str(preds[idx].item()), \n",
        "                                str(labels[idx].item())), \n",
        "               color=(\"green\" if preds[idx]==labels[idx] else \"red\"))\n"
      ],
      "execution_count": 16,
      "outputs": [
        {
          "output_type": "display_data",
          "data": {
            "image/png": "[encoded data removed]",
            "text/plain": [
              "<Figure size 1800x288 with 20 Axes>"
            ]
          },
          "metadata": {
            "tags": []
          }
        }
      ]
    },
    {
      "metadata": {
        "id": "SEJvdxmAnw9j",
        "colab_type": "code",
        "colab": {}
      },
      "cell_type": "code",
      "source": [
        ""
      ],
      "execution_count": 0,
      "outputs": []
    }
  ]
}